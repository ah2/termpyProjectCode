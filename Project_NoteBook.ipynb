{
 "cells": [
  {
   "cell_type": "markdown",
   "metadata": {},
   "source": [
    "## Team-based Project \n",
    "## 1501491 – Fall 2020/2021\n",
    "## Due on Thursday, Dec. 12th, 2020\n",
    "---\n",
    "### Submission Guidelines:\n",
    "   - Prepare the documentation and code in a Puthon notebook.\n",
    "   - Ensure the team-members names and IDs are at the top of notebook.\n",
    "   - Submit your **ipynb** file on BB.\n",
    "   - Create a .zip file of all your files, even if there's only one (this helps TAs keep organized):\n",
    "   - Name your file Firstname1_Firstname2_StudID_Project.zip, where Firstname1 and Firstname2 are to be replaced by your names.\n",
    "   - Late assignments will not be accepted and will receive a mark of 0.\n",
    "   - Your team is expected to present your work on MS-Teams or BB-Ultra.\n",
    "   - You are not allowed to use any python library modules that were not explicitly covered in the class.\n",
    "---\n",
    "### Team Details:\n",
    "   - First name Lastname, id\n",
    "   - First name Lastname, id\n",
    "---"
   ]
  },
  {
   "cell_type": "markdown",
   "metadata": {},
   "source": [
    "## Project Statement:\n",
    "In this Project, you will first create a text-based board game in Python that will use 2-dimentional lists, recursions, loops and other programming logics. Insert Python code into this notebook. You are expected to add and test several functions in this file that will help the main function to start and continue the game.\n",
    "\n",
    "## Rules of the game:\n",
    "This game will be played using a 2D-list (board) that must always have the same number of rows and columns. The board will be displayed to the user in the following format.\n",
    "\n",
    "|          |          |     0    |     1    |     2    |     3    |     4    |     5    |     6    |          |          |\n",
    "|-|-|-|-|-|-|-|-|-|-|-|\n",
    "|          |     +    |     =    |     =    |     =    |     =    |     =    |     =    |     =    |     +    |          |\n",
    "|     0    |     \\|    |     G    |     -    |     -    |     -    |     -    |     -    |     -    |     \\|    |     0    |\n",
    "|     1    |     \\|    |     P    |     P    |     P    |     P    |     P    |     P    |     P    |     \\|    |     1    |\n",
    "|     2    |     \\|    |     -    |     -    |     -    |     -    |     -    |     -    |     -    |     \\|    |     2    |\n",
    "|     3    |     \\|    |     -    |     -    |     -    |     -    |     -    |     -    |     -    |     \\|    |     3    |\n",
    "|     4    |     \\|    |     -    |     -    |     -    |     -    |     -    |     -    |     -    |     \\|    |     4    |\n",
    "|     5    |     \\|    |     -    |     -    |     -    |     -    |     -    |     -    |     -    |     \\|    |     5    |\n",
    "|     6    |     \\|    |     B    |     -    |     R    |     B    |     -    |     -    |     R    |     \\|    |     6    |\n",
    "|          |     +    |     =    |     =    |     =    |     =    |     =    |     =    |     =    |     +    |          |\n",
    "|          |          |     0    |     1    |     2    |     3    |     4    |     5    |     6    |          |          |\n",
    "\n",
    "### Please note the following:\n",
    "   - This example game board has 7 rows and 7 columns (7x7).\n",
    "   - The row and column numbers (0,1,..,6 in this example), and the additional symbols (+,=,|) are not part of the 2D-list. These symbols must be displayed whenever the board is displayed to the user.\n",
    "   - **G**: the general will be placed in some random column on row 0.\n",
    "   - **P**: pawns will be placed in all columns on row 1.\n",
    "   - **B**: two (2) bishops will be placed in random columns on the last row (row 6 in this example).\n",
    "   - **R**: two (2) rooks will be placed in random columns on the last row as well (row 6 in this example).\n",
    "   - **B** and **R** are called soldiers. The user of your program should be able to move these soldiers (see Valid moves below) to some other locations on this board and try to capture G to win the game.\n",
    "\n",
    "### Valid moves:\n",
    "   - **G** can move to any empty column on row 0 only.\n",
    "   - **P** does not move at all.\n",
    "   - **B** can move diagonally in four different directions, i.e., left-up, right-up, left-down and right-down.\n",
    "   - **R** can move in a straight line in four different directions, i.e., left, right, up, and down.\n",
    "   - **B** and **R** cannot pass a **P** on their way to a new location row,column, unless \n",
    "        1. **B/R** captures **P** on their first (valid) move and \n",
    "        2. then go to row,column in the following (valid) move.\n",
    "   - **G**, **B**, **R** cannot move to a location if that location is already occupied by another soldier.\n",
    "\n",
    "Your program must also create another 2D list (**trap_map** - see below) that should not be visible to the user but the total number of hidden traps should be displayed in the beginning of the game.\n",
    " \n",
    "Your program should randomly place some traps (T) on rows 2 to the second last rows on the board with some predefined probability (see rules in later part of the specifications).\n",
    "\n",
    "|          |           |     0    |     1    |     2    |     3    |     4    |     5    |     6    |           |          |\n",
    "|----------|-----------|----------|----------|----------|----------|----------|----------|----------|-----------|----------|\n",
    "|          |     +     |     =    |     =    |     =    |     =    |     =    |     =    |     =    |     +     |          |\n",
    "|     0    |     \\|    |          |          |          |          |          |          |          |     \\|    |     0    |\n",
    "|     1    |     \\|    |          |          |          |          |          |          |          |     \\|    |     1    |\n",
    "|     2    |     \\|    |          |          |          |          |          |          |          |     \\|    |     2    |\n",
    "|     3    |     \\|    |          |          |          |          |          |     T    |          |     \\|    |     3    |\n",
    "|     4    |     \\|    |          |          |     T    |          |     T    |          |          |     \\|    |     4    |\n",
    "|     5    |     \\|    |     T    |          |     T    |          |          |          |          |     \\|    |     5    |\n",
    "|     6    |     \\|    |     T    |          |          |     T    |          |     T    |          |     \\|    |     6    |\n",
    "|          |     +     |     =    |     =    |     =    |     =    |     =    |     =    |     =    |     +     |          |\n",
    "|          |           |     0    |     1    |     2    |     3    |     4    |     5    |     6    |           |          |\n",
    "\n",
    "This board has 8 hidden traps.\n",
    "\n",
    "### How the game continues:\n",
    "The game starts by displaying the game board and the total number of hidden traps. Then the game will continue in a loop until\n",
    "   1. G is captured by the soldiers or \n",
    "   2. all four soldiers die. The maximum board size can be 10x10 and the minimum board size can be 5x5.\n",
    "\n",
    "At every iteration of the game,\n",
    "1.\tYour program should ask the user which soldier they want to move and where.\n",
    "2.\tThe user must enter these two information (locations) as row,column - where row and column are valid integer numbers (refer to the max/min board size to check the validity), separated by a comma. In case the user enters bad inputs (anything other than two valid integers separated by a comma), they should be asked again unless valid inputs are entered.\n",
    "3.\tNext, your program must check if a soldier is present in the current location entered by the user, if not a message will be displayed to the user and nothing changes.\n",
    "4.\tIf a soldier is available in the current location, your program must validate the move of that soldier (see Valid Moves) from their current location to the new location. If the move is not valid, the soldier will not move, a message will be displayed to the user and nothing changes.\n",
    "5.\tIf the move is valid, your program should check if there is any hidden trap on the track from the current location to the new location. If a trap is there, that soldier dies, and the user loses 1 point. Subsequently, G will move to a random free location on row 0. The board should be displayed again showing that trap. A message and the current points will be shown to the users.\n",
    "6.\tIf there is no trap on the track, the soldier moves to the new location and one of these three cases may occur. \n",
    "    a. If the new location contains P, the soldier captures (replaces) P and the user gets 2 points. G will move to a random free location on row 0. The updated board should be displayed again. A message and the current points will be shown to the users. \n",
    "    b. If the new location contains G, the soldier captures G and the user gets 10 points. The updated board should now display all previously hidden traps. A message and the current points will be shown to the users. \n",
    "    c. If the new location is empty, the soldier just moves there, and the updated board should be displayed. A message and the current points will also be shown to the users.\n",
    "\n",
    "**See the sample runs on BB.**\n",
    "\n",
    "### Required Functions:\n",
    "You must write the following functions (not necessarily in this order) as they are the required components for this assignment. You are encouraged to create any additional helper functions, if you prefer, to better organize your code.\n",
    "\n",
    "   - **create_board()** – does not take any parameter and creates a 2D-list to represent the board with a predefined SIZE, where SIZE is a global constant, with 5 ≤ SIZE ≤ 10. The board should contain G, P, B, R according to the given rules above. The empty locations should have ‘-‘ symbols.\n",
    "    \n",
    "   - **set_traps()** – does not take any parameter and creates a 2D-list to represent the trap_map with a predefined SIZE, where SIZE is a global constant, with 5 ≤ SIZE ≤ 10. The trap_map should contain traps (T) placed randomly according to the given specifications above. Set the probability value to 20%, that is your program should place a trap in the current location with a 20 in 100 chance (or a 2 in 10 chance). This function should also display how many hidden traps the game board has.\n",
    "\n",
    "   - **display_board()** – takes a 2D-list as an argument and prints the board to the terminal is the specified format.\n",
    "\n",
    "   - **validate_moves()** – takes the following arguments, four integers representing the rows and columns of the current location and the new location, respectively, and a 2D-list representing the board. This function returns True if the proposed move is valid (see rules), otherwise returns False.\n",
    "\n",
    "   - **check_traps()** – this must be a recursive function that takes the following arguments, four integers representing the rows and columns of the current location and the new location, respectively, and a 2D-list representing the trap_map. This function checks for traps on the proposed track of the soldier from their current location to the new location, and returns the location of the trap, if exists. Otherwise, it returns False.\n",
    " \n",
    "   - **move_general()** - takes a 2D-list as an argument representing the board. This function moves the location of G (see the rules) and returns the updated 2D-list.\n",
    "\n",
    "   - **move_soldier()** – takes the following arguments, four integers representing the rows and columns of the current location and the new location, respectively, and two 2D-lists representing the board and trap_map, respectively. This function follows the rules of the game and move the soldier to the new location if everything goes according to the rules. It should also update the board, displays necessary messages to the terminal and returns the score that the user earned during this move.\n",
    "\n",
    "\n",
    "   - **main()** - creates two 2D-lists representing the board and the trap_map, respectively. Then it must start the game that should repeat the steps of the game (see How the game continues), until the user wins or loses. If the user loses (when all soldiers die), it should display a ‘**Game Over**’ message. If the user wins (when G is captured), a ‘**You Win**’ message should be displayed with the final score.\n",
    "\n",
    " \n"
   ]
  },
  {
   "cell_type": "markdown",
   "metadata": {},
   "source": [
    "### Sample 4 runs are available on BB"
   ]
  },
  {
   "cell_type": "markdown",
   "metadata": {},
   "source": [
    "---\n",
    "## Your code should be inserted below this cell\n",
    "---"
   ]
  },
  {
   "cell_type": "code",
   "execution_count": null,
   "metadata": {},
   "outputs": [],
   "source": []
  },
  {
   "cell_type": "code",
   "execution_count": null,
   "metadata": {},
   "outputs": [],
   "source": [
    "# To run the code, execute main() - below is a sample run\n",
    "main()"
   ]
  },
  {
   "cell_type": "code",
   "execution_count": null,
   "metadata": {},
   "outputs": [],
   "source": []
  },
  {
   "cell_type": "code",
   "execution_count": 4,
   "metadata": {},
   "outputs": [
    {
     "name": "stdout",
     "output_type": "stream",
     "text": [
      "Game starts now\n",
      "\n",
      "  0123456\n",
      " +=======+\n",
      "0|----G--|0\n",
      "1|PPPPPPP|1\n",
      "2|-------|2\n",
      "3|-------|3\n",
      "4|-------|4\n",
      "5|-------|5\n",
      "6|BBR--R-|6\n",
      " +=======+\n",
      "  0123456\n",
      "\n",
      "This board has 6 hidden traps\n",
      "\n"
     ]
    },
    {
     "name": "stdin",
     "output_type": "stream",
     "text": [
      "To move your soldier enter it's current position <row,col>:  6,2\n",
      "Enter the new position <row,col>:  1,2\n"
     ]
    },
    {
     "name": "stdout",
     "output_type": "stream",
     "text": [
      "There was a trap at [3, 2]. Your soldier dies! \n",
      "\n",
      "  0123456\n",
      " +=======+\n",
      "0|----G--|0\n",
      "1|PPPPPPP|1\n",
      "2|-------|2\n",
      "3|--T----|3\n",
      "4|-------|4\n",
      "5|-------|5\n",
      "6|BB---R-|6\n",
      " +=======+\n",
      "  0123456\n",
      "Your Score: -2\n"
     ]
    },
    {
     "name": "stdin",
     "output_type": "stream",
     "text": [
      "To move your soldier enter it's current position <row,col>:  6,5\n",
      "Enter the new position <row,col>:  1,5\n"
     ]
    },
    {
     "name": "stdout",
     "output_type": "stream",
     "text": [
      "\n",
      "  0123456\n",
      " +=======+\n",
      "0|----G--|0\n",
      "1|PPPPPRP|1\n",
      "2|-------|2\n",
      "3|--T----|3\n",
      "4|-------|4\n",
      "5|-------|5\n",
      "6|BB-----|6\n",
      " +=======+\n",
      "  0123456\n",
      "Your Score: -1\n"
     ]
    },
    {
     "name": "stdin",
     "output_type": "stream",
     "text": [
      "To move your soldier enter it's current position <row,col>:  6,0\n",
      "Enter the new position <row,col>:  4,2\n"
     ]
    },
    {
     "name": "stdout",
     "output_type": "stream",
     "text": [
      "\n",
      "  0123456\n",
      " +=======+\n",
      "0|----G--|0\n",
      "1|PPPPPRP|1\n",
      "2|-------|2\n",
      "3|--T----|3\n",
      "4|--B----|4\n",
      "5|-------|5\n",
      "6|-B-----|6\n",
      " +=======+\n",
      "  0123456\n",
      "Your Score: -1\n"
     ]
    },
    {
     "name": "stdin",
     "output_type": "stream",
     "text": [
      "To move your soldier enter it's current position <row,col>:  1,5\n",
      "Enter the new position <row,col>:  0,5\n"
     ]
    },
    {
     "name": "stdout",
     "output_type": "stream",
     "text": [
      "\n",
      "  0123456\n",
      " +=======+\n",
      "0|----GR-|0\n",
      "1|PPPPP-P|1\n",
      "2|-------|2\n",
      "3|--T----|3\n",
      "4|--B----|4\n",
      "5|-------|5\n",
      "6|-B-----|6\n",
      " +=======+\n",
      "  0123456\n",
      "Your Score: -1\n"
     ]
    },
    {
     "name": "stdin",
     "output_type": "stream",
     "text": [
      "To move your soldier enter it's current position <row,col>:  0,5\n",
      "Enter the new position <row,col>:  0,4\n"
     ]
    },
    {
     "name": "stdout",
     "output_type": "stream",
     "text": [
      "\n",
      "  0123456\n",
      " +=======+\n",
      "0|----R--|0\n",
      "1|PPPPP-P|1\n",
      "2|-------|2\n",
      "3|-TTT--T|3\n",
      "4|T-B-T--|4\n",
      "5|-------|5\n",
      "6|-B-----|6\n",
      " +=======+\n",
      "  0123456\n",
      "Your Score: 9\n",
      "You Win! Final score: 9\n"
     ]
    }
   ],
   "source": [
    "# This is a nother sample run for 7x7 board"
   ]
  }
 ],
 "metadata": {
  "kernelspec": {
   "display_name": "Python 3",
   "language": "python",
   "name": "python3"
  },
  "language_info": {
   "codemirror_mode": {
    "name": "ipython",
    "version": 3
   },
   "file_extension": ".py",
   "mimetype": "text/x-python",
   "name": "python",
   "nbconvert_exporter": "python",
   "pygments_lexer": "ipython3",
   "version": "3.8.5"
  }
 },
 "nbformat": 4,
 "nbformat_minor": 4
}
